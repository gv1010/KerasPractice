{
  "nbformat": 4,
  "nbformat_minor": 0,
  "metadata": {
    "colab": {
      "name": "Keras Practice.ipynb",
      "provenance": []
    },
    "kernelspec": {
      "name": "python3",
      "display_name": "Python 3"
    },
    "accelerator": "GPU"
  },
  "cells": [
    {
      "cell_type": "code",
      "metadata": {
        "id": "geBtoitH2laj"
      },
      "source": [
        "import keras "
      ],
      "execution_count": null,
      "outputs": []
    },
    {
      "cell_type": "code",
      "metadata": {
        "id": "NsyVxBs93HoE"
      },
      "source": [
        "from keras.models import Sequential\n",
        "model = Sequential()"
      ],
      "execution_count": null,
      "outputs": []
    },
    {
      "cell_type": "code",
      "metadata": {
        "id": "7UP6CFyu3W8J"
      },
      "source": [
        "from keras.layers import Dense, Activation, Conv2D, MaxPooling2D, Flatten, Dropout"
      ],
      "execution_count": null,
      "outputs": []
    },
    {
      "cell_type": "code",
      "metadata": {
        "id": "0qNsgeB23ukH"
      },
      "source": [
        "model.add(Conv2D(64, (3, 3), activation='relu'))"
      ],
      "execution_count": null,
      "outputs": []
    },
    {
      "cell_type": "code",
      "metadata": {
        "id": "pNCQK5NQ4RI_"
      },
      "source": [
        "model.add(MaxPooling2D(pool_size=(2,2)))"
      ],
      "execution_count": null,
      "outputs": []
    },
    {
      "cell_type": "code",
      "metadata": {
        "id": "UDAfMhuh4bke"
      },
      "source": [
        "model.add(Dense(256, activation='relu'))"
      ],
      "execution_count": null,
      "outputs": []
    },
    {
      "cell_type": "code",
      "metadata": {
        "id": "FMEaAUxW4gNG"
      },
      "source": [
        "model.add(Dropout(0.5))"
      ],
      "execution_count": null,
      "outputs": []
    },
    {
      "cell_type": "code",
      "metadata": {
        "id": "DrFs7fhU4jU-"
      },
      "source": [
        "model.add(Flatten())"
      ],
      "execution_count": null,
      "outputs": []
    },
    {
      "cell_type": "code",
      "metadata": {
        "id": "877Y14MM4nEe"
      },
      "source": [
        "#Taking inputs"
      ],
      "execution_count": null,
      "outputs": []
    },
    {
      "cell_type": "code",
      "metadata": {
        "id": "4bK7hL5f4v8G"
      },
      "source": [
        "model.add(Conv2D(32, (3, 3), activation = 'relu', input_shape =(224, 224, 3)))"
      ],
      "execution_count": null,
      "outputs": []
    },
    {
      "cell_type": "code",
      "metadata": {
        "id": "oJXRtwL748HG"
      },
      "source": [
        "# \n",
        "model.compile(loss='binary_crossentropy', optimizer = 'rmsprop')"
      ],
      "execution_count": null,
      "outputs": []
    },
    {
      "cell_type": "code",
      "metadata": {
        "id": "acrCz4oH7Vuy"
      },
      "source": [
        "from keras.optimizers import SGD\n",
        "sgd = SGD(lr=0.1, decay=1e-6, momentum=0.9, nesterov=True)\n",
        "model.compile(loss='categorical_crossentropy', optimizer=sgd)"
      ],
      "execution_count": null,
      "outputs": []
    },
    {
      "cell_type": "code",
      "metadata": {
        "id": "jLMX_O7y8hsV",
        "colab": {
          "base_uri": "https://localhost:8080/",
          "height": 163
        },
        "outputId": "b7c768bf-46b4-4471-d785-e26d4b483ada"
      },
      "source": [
        "model.fit(X_train, Y_train, batch_size = 323, epochs=10,validation_data = (x_val, y_val))"
      ],
      "execution_count": null,
      "outputs": [
        {
          "output_type": "error",
          "ename": "NameError",
          "evalue": "ignored",
          "traceback": [
            "\u001b[0;31m---------------------------------------------------------------------------\u001b[0m",
            "\u001b[0;31mNameError\u001b[0m                                 Traceback (most recent call last)",
            "\u001b[0;32m<ipython-input-17-de844dd2f093>\u001b[0m in \u001b[0;36m<module>\u001b[0;34m()\u001b[0m\n\u001b[0;32m----> 1\u001b[0;31m \u001b[0mmodel\u001b[0m\u001b[0;34m.\u001b[0m\u001b[0mfit\u001b[0m\u001b[0;34m(\u001b[0m\u001b[0mX_train\u001b[0m\u001b[0;34m,\u001b[0m \u001b[0mY_train\u001b[0m\u001b[0;34m,\u001b[0m \u001b[0mbatch_size\u001b[0m \u001b[0;34m=\u001b[0m \u001b[0;36m323\u001b[0m\u001b[0;34m,\u001b[0m \u001b[0mepochs\u001b[0m\u001b[0;34m=\u001b[0m\u001b[0;36m10\u001b[0m\u001b[0;34m,\u001b[0m\u001b[0mvalidation_data\u001b[0m \u001b[0;34m=\u001b[0m \u001b[0;34m(\u001b[0m\u001b[0mx_val\u001b[0m\u001b[0;34m,\u001b[0m \u001b[0my_val\u001b[0m\u001b[0;34m)\u001b[0m\u001b[0;34m)\u001b[0m\u001b[0;34m\u001b[0m\u001b[0;34m\u001b[0m\u001b[0m\n\u001b[0m",
            "\u001b[0;31mNameError\u001b[0m: name 'X_train' is not defined"
          ]
        }
      ]
    },
    {
      "cell_type": "code",
      "metadata": {
        "id": "a6Z4-Rf69lz0"
      },
      "source": [
        "score = model.evaluate(x_test, y_test, batch_szie=32)"
      ],
      "execution_count": null,
      "outputs": []
    },
    {
      "cell_type": "code",
      "metadata": {
        "id": "CcOr_nYt-P6i"
      },
      "source": [
        "model.save_weights(\"model.h5\")\n",
        "model.load_weights('model.h5')"
      ],
      "execution_count": null,
      "outputs": []
    },
    {
      "cell_type": "code",
      "metadata": {
        "id": "fdUWD0eE-P-1"
      },
      "source": [
        "#Functional API"
      ],
      "execution_count": null,
      "outputs": []
    },
    {
      "cell_type": "code",
      "metadata": {
        "id": "yfPTCDpB-QBh"
      },
      "source": [
        "from keras.models import Model"
      ],
      "execution_count": null,
      "outputs": []
    },
    {
      "cell_type": "code",
      "metadata": {
        "id": "HtXYzVH_-QF7"
      },
      "source": [
        "from keras.layers import Input"
      ],
      "execution_count": null,
      "outputs": []
    },
    {
      "cell_type": "code",
      "metadata": {
        "id": "thjLj8xY_IOb"
      },
      "source": [
        "digit_input = Input(shape=(244, 244, 3))"
      ],
      "execution_count": null,
      "outputs": []
    },
    {
      "cell_type": "code",
      "metadata": {
        "id": "JrvhMpn7AMdS"
      },
      "source": [
        "x=Conv2D(64,(3,3))(digit_input)\n",
        "x=Conv2D(64,(3,3))(x)\n",
        "x=MaxPooling2D((2,2))(x)\n",
        "out = Flatten()(x)"
      ],
      "execution_count": null,
      "outputs": []
    },
    {
      "cell_type": "code",
      "metadata": {
        "id": "M8YBifBDAsUr"
      },
      "source": [
        "vision_model = Model(digit_input, out)"
      ],
      "execution_count": null,
      "outputs": []
    },
    {
      "cell_type": "code",
      "metadata": {
        "id": "e9M063naAwlz",
        "colab": {
          "base_uri": "https://localhost:8080/"
        },
        "outputId": "b82773a6-04f5-41a1-f48f-f882decf2b6a"
      },
      "source": [
        "vision_model.summary()"
      ],
      "execution_count": null,
      "outputs": [
        {
          "output_type": "stream",
          "text": [
            "Model: \"functional_1\"\n",
            "_________________________________________________________________\n",
            "Layer (type)                 Output Shape              Param #   \n",
            "=================================================================\n",
            "input_1 (InputLayer)         [(None, 28, 28, 1)]       0         \n",
            "_________________________________________________________________\n",
            "conv2d_2 (Conv2D)            (None, 26, 26, 64)        640       \n",
            "_________________________________________________________________\n",
            "conv2d_3 (Conv2D)            (None, 24, 24, 64)        36928     \n",
            "_________________________________________________________________\n",
            "max_pooling2d_1 (MaxPooling2 (None, 12, 12, 64)        0         \n",
            "_________________________________________________________________\n",
            "flatten_1 (Flatten)          (None, 9216)              0         \n",
            "=================================================================\n",
            "Total params: 37,568\n",
            "Trainable params: 37,568\n",
            "Non-trainable params: 0\n",
            "_________________________________________________________________\n"
          ],
          "name": "stdout"
        }
      ]
    },
    {
      "cell_type": "code",
      "metadata": {
        "id": "rC7tefkEFWNt",
        "colab": {
          "base_uri": "https://localhost:8080/"
        },
        "outputId": "fab91a0d-7631-438e-ebf5-0e54df37e047"
      },
      "source": [
        "import os\n",
        "os.listdir('.')"
      ],
      "execution_count": null,
      "outputs": [
        {
          "output_type": "execute_result",
          "data": {
            "text/plain": [
              "['.config', 'sample_data']"
            ]
          },
          "metadata": {
            "tags": []
          },
          "execution_count": 2
        }
      ]
    },
    {
      "cell_type": "code",
      "metadata": {
        "id": "l1glBaaY8LHc"
      },
      "source": [
        "sq1x1 = \"squeeze1x1\"\n",
        "exp1x1 = \"expand1x1\"\n",
        "exp3x3 = \"expand3x3\"\n",
        "relu = \"relu_\"\n",
        " \n",
        "def fire_module(x, fire_id, squeeze=16, expand=64):\n",
        "   s_id = 'fire' + str(fire_id) + '/'\n",
        "   x = Conv2D(squeeze, (1, 1), padding='valid', name=s_id + sq1x1)(x)\n",
        "   x = Activation('relu', name=s_id + relu + sq1x1)(x)\n",
        " \n",
        "   left = Conv2D(expand, (1, 1), padding='valid', name=s_id + exp1x1)(x)\n",
        "   left = Activation('relu', name=s_id + relu + exp1x1)(left)\n",
        " \n",
        "   right = Conv2D(expand, (3, 3), padding='same', name=s_id + exp3x3)(x)\n",
        "   right = Activation('relu', name=s_id + relu + exp3x3)(right)\n",
        " \n",
        "   x = keras.layers.Concatenate(axis=3, name=s_id + 'concat')([left, right])\n",
        "   return x"
      ],
      "execution_count": null,
      "outputs": []
    },
    {
      "cell_type": "code",
      "metadata": {
        "id": "HMB_QI56VsRV"
      },
      "source": [
        "x = Conv2D(64, (3, 3), strides=(2, 2), padding='valid', name='conv1')(digit_input)\n",
        "x = Activation('relu', name='relu_conv1')(x)\n",
        "x = MaxPooling2D(pool_size=(3, 3), strides=(2, 2), name='pool1')(x)"
      ],
      "execution_count": null,
      "outputs": []
    },
    {
      "cell_type": "code",
      "metadata": {
        "id": "fXuOpdLTWQLL"
      },
      "source": [
        "x = fire_module(x, fire_id=2, squeeze=16, expand=64)\n",
        "x = fire_module(x, fire_id=3, squeeze=16, expand=64)\n",
        "x = MaxPooling2D(pool_size=(3, 3), strides=(2, 2), name='pool3')(x)\n",
        " \n",
        "x = fire_module(x, fire_id=4, squeeze=32, expand=128)\n",
        "x = fire_module(x, fire_id=5, squeeze=32, expand=128)\n",
        "x = MaxPooling2D(pool_size=(3, 3), strides=(2, 2), name='pool5')(x)\n",
        " \n",
        "x = fire_module(x, fire_id=6, squeeze=48, expand=192)\n",
        "x = fire_module(x, fire_id=7, squeeze=48, expand=192)\n",
        "x = fire_module(x, fire_id=8, squeeze=64, expand=256)\n",
        "x = fire_module(x, fire_id=9, squeeze=64, expand=256)\n",
        "x = Dropout(0.5, name='drop9')(x)"
      ],
      "execution_count": null,
      "outputs": []
    },
    {
      "cell_type": "code",
      "metadata": {
        "id": "v11fWZT7WY5b"
      },
      "source": [
        "x = Conv2D(5, (1, 1), padding='valid', name='conv10')(x)\n",
        "x = Activation('relu', name='relu_conv10')(x)\n",
        "x = keras.layers.GlobalAveragePooling2D()(x)\n",
        "out = Activation('softmax', name='loss')(x)"
      ],
      "execution_count": null,
      "outputs": []
    },
    {
      "cell_type": "code",
      "metadata": {
        "id": "z0DfsIWZXcp0",
        "colab": {
          "base_uri": "https://localhost:8080/"
        },
        "outputId": "1e524189-dff0-4d55-d07b-21766a9c5b17"
      },
      "source": [
        "\n",
        "model = Model(digit_input, out, name='squeezenet')\n",
        "model.summary()"
      ],
      "execution_count": null,
      "outputs": [
        {
          "output_type": "stream",
          "text": [
            "Model: \"squeezenet\"\n",
            "__________________________________________________________________________________________________\n",
            "Layer (type)                    Output Shape         Param #     Connected to                     \n",
            "==================================================================================================\n",
            "input_1 (InputLayer)            [(None, 244, 244, 3) 0                                            \n",
            "__________________________________________________________________________________________________\n",
            "conv1 (Conv2D)                  (None, 121, 121, 64) 1792        input_1[0][0]                    \n",
            "__________________________________________________________________________________________________\n",
            "relu_conv1 (Activation)         (None, 121, 121, 64) 0           conv1[0][0]                      \n",
            "__________________________________________________________________________________________________\n",
            "pool1 (MaxPooling2D)            (None, 60, 60, 64)   0           relu_conv1[0][0]                 \n",
            "__________________________________________________________________________________________________\n",
            "fire2/squeeze1x1 (Conv2D)       (None, 60, 60, 16)   1040        pool1[0][0]                      \n",
            "__________________________________________________________________________________________________\n",
            "fire2/relu_squeeze1x1 (Activati (None, 60, 60, 16)   0           fire2/squeeze1x1[0][0]           \n",
            "__________________________________________________________________________________________________\n",
            "fire2/expand1x1 (Conv2D)        (None, 60, 60, 64)   1088        fire2/relu_squeeze1x1[0][0]      \n",
            "__________________________________________________________________________________________________\n",
            "fire2/expand3x3 (Conv2D)        (None, 60, 60, 64)   9280        fire2/relu_squeeze1x1[0][0]      \n",
            "__________________________________________________________________________________________________\n",
            "fire2/relu_expand1x1 (Activatio (None, 60, 60, 64)   0           fire2/expand1x1[0][0]            \n",
            "__________________________________________________________________________________________________\n",
            "fire2/relu_expand3x3 (Activatio (None, 60, 60, 64)   0           fire2/expand3x3[0][0]            \n",
            "__________________________________________________________________________________________________\n",
            "fire2/concat (Concatenate)      (None, 60, 60, 128)  0           fire2/relu_expand1x1[0][0]       \n",
            "                                                                 fire2/relu_expand3x3[0][0]       \n",
            "__________________________________________________________________________________________________\n",
            "fire3/squeeze1x1 (Conv2D)       (None, 60, 60, 16)   2064        fire2/concat[0][0]               \n",
            "__________________________________________________________________________________________________\n",
            "fire3/relu_squeeze1x1 (Activati (None, 60, 60, 16)   0           fire3/squeeze1x1[0][0]           \n",
            "__________________________________________________________________________________________________\n",
            "fire3/expand1x1 (Conv2D)        (None, 60, 60, 64)   1088        fire3/relu_squeeze1x1[0][0]      \n",
            "__________________________________________________________________________________________________\n",
            "fire3/expand3x3 (Conv2D)        (None, 60, 60, 64)   9280        fire3/relu_squeeze1x1[0][0]      \n",
            "__________________________________________________________________________________________________\n",
            "fire3/relu_expand1x1 (Activatio (None, 60, 60, 64)   0           fire3/expand1x1[0][0]            \n",
            "__________________________________________________________________________________________________\n",
            "fire3/relu_expand3x3 (Activatio (None, 60, 60, 64)   0           fire3/expand3x3[0][0]            \n",
            "__________________________________________________________________________________________________\n",
            "fire3/concat (Concatenate)      (None, 60, 60, 128)  0           fire3/relu_expand1x1[0][0]       \n",
            "                                                                 fire3/relu_expand3x3[0][0]       \n",
            "__________________________________________________________________________________________________\n",
            "pool3 (MaxPooling2D)            (None, 29, 29, 128)  0           fire3/concat[0][0]               \n",
            "__________________________________________________________________________________________________\n",
            "fire4/squeeze1x1 (Conv2D)       (None, 29, 29, 32)   4128        pool3[0][0]                      \n",
            "__________________________________________________________________________________________________\n",
            "fire4/relu_squeeze1x1 (Activati (None, 29, 29, 32)   0           fire4/squeeze1x1[0][0]           \n",
            "__________________________________________________________________________________________________\n",
            "fire4/expand1x1 (Conv2D)        (None, 29, 29, 128)  4224        fire4/relu_squeeze1x1[0][0]      \n",
            "__________________________________________________________________________________________________\n",
            "fire4/expand3x3 (Conv2D)        (None, 29, 29, 128)  36992       fire4/relu_squeeze1x1[0][0]      \n",
            "__________________________________________________________________________________________________\n",
            "fire4/relu_expand1x1 (Activatio (None, 29, 29, 128)  0           fire4/expand1x1[0][0]            \n",
            "__________________________________________________________________________________________________\n",
            "fire4/relu_expand3x3 (Activatio (None, 29, 29, 128)  0           fire4/expand3x3[0][0]            \n",
            "__________________________________________________________________________________________________\n",
            "fire4/concat (Concatenate)      (None, 29, 29, 256)  0           fire4/relu_expand1x1[0][0]       \n",
            "                                                                 fire4/relu_expand3x3[0][0]       \n",
            "__________________________________________________________________________________________________\n",
            "fire5/squeeze1x1 (Conv2D)       (None, 29, 29, 32)   8224        fire4/concat[0][0]               \n",
            "__________________________________________________________________________________________________\n",
            "fire5/relu_squeeze1x1 (Activati (None, 29, 29, 32)   0           fire5/squeeze1x1[0][0]           \n",
            "__________________________________________________________________________________________________\n",
            "fire5/expand1x1 (Conv2D)        (None, 29, 29, 128)  4224        fire5/relu_squeeze1x1[0][0]      \n",
            "__________________________________________________________________________________________________\n",
            "fire5/expand3x3 (Conv2D)        (None, 29, 29, 128)  36992       fire5/relu_squeeze1x1[0][0]      \n",
            "__________________________________________________________________________________________________\n",
            "fire5/relu_expand1x1 (Activatio (None, 29, 29, 128)  0           fire5/expand1x1[0][0]            \n",
            "__________________________________________________________________________________________________\n",
            "fire5/relu_expand3x3 (Activatio (None, 29, 29, 128)  0           fire5/expand3x3[0][0]            \n",
            "__________________________________________________________________________________________________\n",
            "fire5/concat (Concatenate)      (None, 29, 29, 256)  0           fire5/relu_expand1x1[0][0]       \n",
            "                                                                 fire5/relu_expand3x3[0][0]       \n",
            "__________________________________________________________________________________________________\n",
            "pool5 (MaxPooling2D)            (None, 14, 14, 256)  0           fire5/concat[0][0]               \n",
            "__________________________________________________________________________________________________\n",
            "fire6/squeeze1x1 (Conv2D)       (None, 14, 14, 48)   12336       pool5[0][0]                      \n",
            "__________________________________________________________________________________________________\n",
            "fire6/relu_squeeze1x1 (Activati (None, 14, 14, 48)   0           fire6/squeeze1x1[0][0]           \n",
            "__________________________________________________________________________________________________\n",
            "fire6/expand1x1 (Conv2D)        (None, 14, 14, 192)  9408        fire6/relu_squeeze1x1[0][0]      \n",
            "__________________________________________________________________________________________________\n",
            "fire6/expand3x3 (Conv2D)        (None, 14, 14, 192)  83136       fire6/relu_squeeze1x1[0][0]      \n",
            "__________________________________________________________________________________________________\n",
            "fire6/relu_expand1x1 (Activatio (None, 14, 14, 192)  0           fire6/expand1x1[0][0]            \n",
            "__________________________________________________________________________________________________\n",
            "fire6/relu_expand3x3 (Activatio (None, 14, 14, 192)  0           fire6/expand3x3[0][0]            \n",
            "__________________________________________________________________________________________________\n",
            "fire6/concat (Concatenate)      (None, 14, 14, 384)  0           fire6/relu_expand1x1[0][0]       \n",
            "                                                                 fire6/relu_expand3x3[0][0]       \n",
            "__________________________________________________________________________________________________\n",
            "fire7/squeeze1x1 (Conv2D)       (None, 14, 14, 48)   18480       fire6/concat[0][0]               \n",
            "__________________________________________________________________________________________________\n",
            "fire7/relu_squeeze1x1 (Activati (None, 14, 14, 48)   0           fire7/squeeze1x1[0][0]           \n",
            "__________________________________________________________________________________________________\n",
            "fire7/expand1x1 (Conv2D)        (None, 14, 14, 192)  9408        fire7/relu_squeeze1x1[0][0]      \n",
            "__________________________________________________________________________________________________\n",
            "fire7/expand3x3 (Conv2D)        (None, 14, 14, 192)  83136       fire7/relu_squeeze1x1[0][0]      \n",
            "__________________________________________________________________________________________________\n",
            "fire7/relu_expand1x1 (Activatio (None, 14, 14, 192)  0           fire7/expand1x1[0][0]            \n",
            "__________________________________________________________________________________________________\n",
            "fire7/relu_expand3x3 (Activatio (None, 14, 14, 192)  0           fire7/expand3x3[0][0]            \n",
            "__________________________________________________________________________________________________\n",
            "fire7/concat (Concatenate)      (None, 14, 14, 384)  0           fire7/relu_expand1x1[0][0]       \n",
            "                                                                 fire7/relu_expand3x3[0][0]       \n",
            "__________________________________________________________________________________________________\n",
            "fire8/squeeze1x1 (Conv2D)       (None, 14, 14, 64)   24640       fire7/concat[0][0]               \n",
            "__________________________________________________________________________________________________\n",
            "fire8/relu_squeeze1x1 (Activati (None, 14, 14, 64)   0           fire8/squeeze1x1[0][0]           \n",
            "__________________________________________________________________________________________________\n",
            "fire8/expand1x1 (Conv2D)        (None, 14, 14, 256)  16640       fire8/relu_squeeze1x1[0][0]      \n",
            "__________________________________________________________________________________________________\n",
            "fire8/expand3x3 (Conv2D)        (None, 14, 14, 256)  147712      fire8/relu_squeeze1x1[0][0]      \n",
            "__________________________________________________________________________________________________\n",
            "fire8/relu_expand1x1 (Activatio (None, 14, 14, 256)  0           fire8/expand1x1[0][0]            \n",
            "__________________________________________________________________________________________________\n",
            "fire8/relu_expand3x3 (Activatio (None, 14, 14, 256)  0           fire8/expand3x3[0][0]            \n",
            "__________________________________________________________________________________________________\n",
            "fire8/concat (Concatenate)      (None, 14, 14, 512)  0           fire8/relu_expand1x1[0][0]       \n",
            "                                                                 fire8/relu_expand3x3[0][0]       \n",
            "__________________________________________________________________________________________________\n",
            "fire9/squeeze1x1 (Conv2D)       (None, 14, 14, 64)   32832       fire8/concat[0][0]               \n",
            "__________________________________________________________________________________________________\n",
            "fire9/relu_squeeze1x1 (Activati (None, 14, 14, 64)   0           fire9/squeeze1x1[0][0]           \n",
            "__________________________________________________________________________________________________\n",
            "fire9/expand1x1 (Conv2D)        (None, 14, 14, 256)  16640       fire9/relu_squeeze1x1[0][0]      \n",
            "__________________________________________________________________________________________________\n",
            "fire9/expand3x3 (Conv2D)        (None, 14, 14, 256)  147712      fire9/relu_squeeze1x1[0][0]      \n",
            "__________________________________________________________________________________________________\n",
            "fire9/relu_expand1x1 (Activatio (None, 14, 14, 256)  0           fire9/expand1x1[0][0]            \n",
            "__________________________________________________________________________________________________\n",
            "fire9/relu_expand3x3 (Activatio (None, 14, 14, 256)  0           fire9/expand3x3[0][0]            \n",
            "__________________________________________________________________________________________________\n",
            "fire9/concat (Concatenate)      (None, 14, 14, 512)  0           fire9/relu_expand1x1[0][0]       \n",
            "                                                                 fire9/relu_expand3x3[0][0]       \n",
            "__________________________________________________________________________________________________\n",
            "drop9 (Dropout)                 (None, 14, 14, 512)  0           fire9/concat[0][0]               \n",
            "__________________________________________________________________________________________________\n",
            "conv10 (Conv2D)                 (None, 14, 14, 5)    2565        drop9[0][0]                      \n",
            "__________________________________________________________________________________________________\n",
            "relu_conv10 (Activation)        (None, 14, 14, 5)    0           conv10[0][0]                     \n",
            "__________________________________________________________________________________________________\n",
            "global_average_pooling2d (Globa (None, 5)            0           relu_conv10[0][0]                \n",
            "__________________________________________________________________________________________________\n",
            "loss (Activation)               (None, 5)            0           global_average_pooling2d[0][0]   \n",
            "==================================================================================================\n",
            "Total params: 725,061\n",
            "Trainable params: 725,061\n",
            "Non-trainable params: 0\n",
            "__________________________________________________________________________________________________\n"
          ],
          "name": "stdout"
        }
      ]
    },
    {
      "cell_type": "code",
      "metadata": {
        "id": "gQ4lzx1nX8uy"
      },
      "source": [
        ""
      ],
      "execution_count": null,
      "outputs": []
    }
  ]
}