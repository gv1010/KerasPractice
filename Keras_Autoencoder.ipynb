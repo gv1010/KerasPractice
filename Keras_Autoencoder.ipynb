{
  "nbformat": 4,
  "nbformat_minor": 0,
  "metadata": {
    "colab": {
      "name": "Keras Autoencoder.ipynb",
      "provenance": [],
      "collapsed_sections": []
    },
    "kernelspec": {
      "name": "python3",
      "display_name": "Python 3"
    },
    "accelerator": "GPU"
  },
  "cells": [
    {
      "cell_type": "code",
      "metadata": {
        "id": "_7E6oKpSBZaK"
      },
      "source": [
        "import keras\n",
        "from keras import layers"
      ],
      "execution_count": null,
      "outputs": []
    },
    {
      "cell_type": "code",
      "metadata": {
        "colab": {
          "base_uri": "https://localhost:8080/"
        },
        "id": "BjyOO-9ZDZZa",
        "outputId": "b4d681a9-22c3-43b9-e519-312ed84e570c"
      },
      "source": [
        "from keras.datasets import mnist\n",
        "import numpy as np\n",
        "(X_train, _), (X_test, _) = mnist.load_data()"
      ],
      "execution_count": null,
      "outputs": [
        {
          "output_type": "stream",
          "text": [
            "Downloading data from https://storage.googleapis.com/tensorflow/tf-keras-datasets/mnist.npz\n",
            "11493376/11490434 [==============================] - 0s 0us/step\n"
          ],
          "name": "stdout"
        }
      ]
    },
    {
      "cell_type": "code",
      "metadata": {
        "colab": {
          "base_uri": "https://localhost:8080/"
        },
        "id": "XDYtzN8dELkl",
        "outputId": "ee300177-8bad-48d2-82c7-ef245e42ac87"
      },
      "source": [
        "len(X_train)"
      ],
      "execution_count": null,
      "outputs": [
        {
          "output_type": "execute_result",
          "data": {
            "text/plain": [
              "60000"
            ]
          },
          "metadata": {
            "tags": []
          },
          "execution_count": 9
        }
      ]
    },
    {
      "cell_type": "code",
      "metadata": {
        "colab": {
          "base_uri": "https://localhost:8080/"
        },
        "id": "A1e3nohLER-e",
        "outputId": "ee3c21ac-45de-4e0c-9770-c73cb88537cc"
      },
      "source": [
        "X_train.reshape(len(X_train), np.prod(X_train.shape[1:])).shape"
      ],
      "execution_count": null,
      "outputs": [
        {
          "output_type": "execute_result",
          "data": {
            "text/plain": [
              "(60000, 784)"
            ]
          },
          "metadata": {
            "tags": []
          },
          "execution_count": 11
        }
      ]
    },
    {
      "cell_type": "code",
      "metadata": {
        "id": "JmW1ElBQDvwI"
      },
      "source": [
        "X_train = X_train.astype('float32')/255.\n",
        "X_test = X_test.astype('float32')/255.\n",
        "X_train = X_train.reshape(len(X_train), np.prod(X_train.shape[1:]))\n",
        "X_test = X_test.reshape(len(X_test), np.prod(X_test.shape[1:]))"
      ],
      "execution_count": null,
      "outputs": []
    },
    {
      "cell_type": "code",
      "metadata": {
        "id": "aGilewrVDvy-"
      },
      "source": [
        ""
      ],
      "execution_count": null,
      "outputs": []
    },
    {
      "cell_type": "code",
      "metadata": {
        "id": "lkBotymGBosR"
      },
      "source": [
        "encoding_dim = 32\n",
        "input_img = keras.Input(shape=(784,))\n",
        "encoded = layers.Dense(128, activation='relu')(input_img)\n",
        "encoded = layers.Dense(64, activation='relu')(encoded)\n",
        "encoded = layers.Dense(32, activation='relu')(encoded)\n",
        "\n",
        "decoded = layers.Dense(64, activation='relu')(encoded)\n",
        "decoded = layers.Dense(128, activation = 'relu')(decoded)\n",
        "decoded = layers.Dense(784, activation='sigmoid')(decoded)"
      ],
      "execution_count": null,
      "outputs": []
    },
    {
      "cell_type": "code",
      "metadata": {
        "colab": {
          "base_uri": "https://localhost:8080/"
        },
        "id": "FVhXR2LSCuCO",
        "outputId": "edeb2dca-020d-43e6-e874-c0ccea7c02c2"
      },
      "source": [
        "autoencoder = keras.Model(input_img, decoded)\n",
        "autoencoder.compile(optimizer='adam', loss='binary_crossentropy')\n",
        "\n",
        "autoencoder.fit(X_train, X_train, epochs = 50, batch_size = 256, shuffle= True, validation_data = (X_test, X_test))"
      ],
      "execution_count": null,
      "outputs": [
        {
          "output_type": "stream",
          "text": [
            "Epoch 1/50\n",
            "235/235 [==============================] - 1s 6ms/step - loss: 0.2433 - val_loss: 0.1651\n",
            "Epoch 2/50\n",
            "235/235 [==============================] - 1s 5ms/step - loss: 0.1497 - val_loss: 0.1369\n",
            "Epoch 3/50\n",
            "235/235 [==============================] - 1s 5ms/step - loss: 0.1321 - val_loss: 0.1242\n",
            "Epoch 4/50\n",
            "235/235 [==============================] - 1s 5ms/step - loss: 0.1221 - val_loss: 0.1174\n",
            "Epoch 5/50\n",
            "235/235 [==============================] - 1s 5ms/step - loss: 0.1163 - val_loss: 0.1129\n",
            "Epoch 6/50\n",
            "235/235 [==============================] - 1s 5ms/step - loss: 0.1119 - val_loss: 0.1089\n",
            "Epoch 7/50\n",
            "235/235 [==============================] - 1s 5ms/step - loss: 0.1084 - val_loss: 0.1058\n",
            "Epoch 8/50\n",
            "235/235 [==============================] - 1s 5ms/step - loss: 0.1058 - val_loss: 0.1033\n",
            "Epoch 9/50\n",
            "235/235 [==============================] - 1s 5ms/step - loss: 0.1038 - val_loss: 0.1015\n",
            "Epoch 10/50\n",
            "235/235 [==============================] - 1s 5ms/step - loss: 0.1020 - val_loss: 0.0998\n",
            "Epoch 11/50\n",
            "235/235 [==============================] - 1s 5ms/step - loss: 0.1003 - val_loss: 0.0986\n",
            "Epoch 12/50\n",
            "235/235 [==============================] - 1s 5ms/step - loss: 0.0990 - val_loss: 0.0971\n",
            "Epoch 13/50\n",
            "235/235 [==============================] - 1s 5ms/step - loss: 0.0979 - val_loss: 0.0962\n",
            "Epoch 14/50\n",
            "235/235 [==============================] - 1s 5ms/step - loss: 0.0970 - val_loss: 0.0955\n",
            "Epoch 15/50\n",
            "235/235 [==============================] - 1s 5ms/step - loss: 0.0961 - val_loss: 0.0946\n",
            "Epoch 16/50\n",
            "235/235 [==============================] - 1s 5ms/step - loss: 0.0953 - val_loss: 0.0937\n",
            "Epoch 17/50\n",
            "235/235 [==============================] - 1s 5ms/step - loss: 0.0945 - val_loss: 0.0935\n",
            "Epoch 18/50\n",
            "235/235 [==============================] - 1s 5ms/step - loss: 0.0937 - val_loss: 0.0926\n",
            "Epoch 19/50\n",
            "235/235 [==============================] - 1s 5ms/step - loss: 0.0931 - val_loss: 0.0920\n",
            "Epoch 20/50\n",
            "235/235 [==============================] - 1s 5ms/step - loss: 0.0925 - val_loss: 0.0914\n",
            "Epoch 21/50\n",
            "235/235 [==============================] - 1s 5ms/step - loss: 0.0919 - val_loss: 0.0909\n",
            "Epoch 22/50\n",
            "235/235 [==============================] - 1s 5ms/step - loss: 0.0914 - val_loss: 0.0908\n",
            "Epoch 23/50\n",
            "235/235 [==============================] - 1s 5ms/step - loss: 0.0910 - val_loss: 0.0900\n",
            "Epoch 24/50\n",
            "235/235 [==============================] - 1s 5ms/step - loss: 0.0905 - val_loss: 0.0896\n",
            "Epoch 25/50\n",
            "235/235 [==============================] - 1s 5ms/step - loss: 0.0901 - val_loss: 0.0893\n",
            "Epoch 26/50\n",
            "235/235 [==============================] - 1s 5ms/step - loss: 0.0899 - val_loss: 0.0891\n",
            "Epoch 27/50\n",
            "235/235 [==============================] - 1s 5ms/step - loss: 0.0895 - val_loss: 0.0888\n",
            "Epoch 28/50\n",
            "235/235 [==============================] - 1s 5ms/step - loss: 0.0893 - val_loss: 0.0883\n",
            "Epoch 29/50\n",
            "235/235 [==============================] - 1s 5ms/step - loss: 0.0889 - val_loss: 0.0883\n",
            "Epoch 30/50\n",
            "235/235 [==============================] - 1s 5ms/step - loss: 0.0887 - val_loss: 0.0879\n",
            "Epoch 31/50\n",
            "235/235 [==============================] - 1s 5ms/step - loss: 0.0884 - val_loss: 0.0876\n",
            "Epoch 32/50\n",
            "235/235 [==============================] - 1s 5ms/step - loss: 0.0882 - val_loss: 0.0874\n",
            "Epoch 33/50\n",
            "235/235 [==============================] - 1s 5ms/step - loss: 0.0879 - val_loss: 0.0871\n",
            "Epoch 34/50\n",
            "235/235 [==============================] - 1s 5ms/step - loss: 0.0876 - val_loss: 0.0869\n",
            "Epoch 35/50\n",
            "235/235 [==============================] - 1s 5ms/step - loss: 0.0874 - val_loss: 0.0865\n",
            "Epoch 36/50\n",
            "235/235 [==============================] - 1s 6ms/step - loss: 0.0872 - val_loss: 0.0863\n",
            "Epoch 37/50\n",
            "235/235 [==============================] - 1s 6ms/step - loss: 0.0869 - val_loss: 0.0862\n",
            "Epoch 38/50\n",
            "235/235 [==============================] - 1s 6ms/step - loss: 0.0867 - val_loss: 0.0861\n",
            "Epoch 39/50\n",
            "235/235 [==============================] - 1s 6ms/step - loss: 0.0865 - val_loss: 0.0860\n",
            "Epoch 40/50\n",
            "235/235 [==============================] - 1s 6ms/step - loss: 0.0863 - val_loss: 0.0857\n",
            "Epoch 41/50\n",
            "235/235 [==============================] - 1s 6ms/step - loss: 0.0861 - val_loss: 0.0853\n",
            "Epoch 42/50\n",
            "235/235 [==============================] - 1s 6ms/step - loss: 0.0860 - val_loss: 0.0857\n",
            "Epoch 43/50\n",
            "235/235 [==============================] - 1s 5ms/step - loss: 0.0859 - val_loss: 0.0852\n",
            "Epoch 44/50\n",
            "235/235 [==============================] - 1s 5ms/step - loss: 0.0857 - val_loss: 0.0849\n",
            "Epoch 45/50\n",
            "235/235 [==============================] - 1s 5ms/step - loss: 0.0855 - val_loss: 0.0850\n",
            "Epoch 46/50\n",
            "235/235 [==============================] - 1s 5ms/step - loss: 0.0854 - val_loss: 0.0850\n",
            "Epoch 47/50\n",
            "235/235 [==============================] - 1s 5ms/step - loss: 0.0853 - val_loss: 0.0849\n",
            "Epoch 48/50\n",
            "235/235 [==============================] - 1s 5ms/step - loss: 0.0852 - val_loss: 0.0845\n",
            "Epoch 49/50\n",
            "235/235 [==============================] - 1s 5ms/step - loss: 0.0850 - val_loss: 0.0843\n",
            "Epoch 50/50\n",
            "235/235 [==============================] - 1s 5ms/step - loss: 0.0849 - val_loss: 0.0846\n"
          ],
          "name": "stdout"
        },
        {
          "output_type": "execute_result",
          "data": {
            "text/plain": [
              "<tensorflow.python.keras.callbacks.History at 0x7f75867741d0>"
            ]
          },
          "metadata": {
            "tags": []
          },
          "execution_count": 13
        }
      ]
    },
    {
      "cell_type": "code",
      "metadata": {
        "id": "1BQrIN9cCu-x"
      },
      "source": [
        "#Convolution autoencoder"
      ],
      "execution_count": null,
      "outputs": []
    },
    {
      "cell_type": "code",
      "metadata": {
        "id": "WyGcFjbnCvBg"
      },
      "source": [
        "import keras\n",
        "from keras import layers\n",
        "input_img = keras.Input(shape = (28,28,1))\n",
        "x = layers.Conv2D(16, (3,3), activation='relu', padding='same')(input_img)\n",
        "x = layers.MaxPooling2D((2,2), padding= 'same')(x)\n",
        "x = layers.Conv2D(8, (3,3), activation='relu', padding='same')(x)\n",
        "x = layers.MaxPooling2D((2,2), padding='same')(x)\n",
        "x = layers.Conv2D(8, (3,3), activation='relu', padding='same')(x)\n",
        "encoded = layers.MaxPooling2D((2,2), padding='same')(x)\n",
        "\n",
        "x = layers.Conv2D(8, (3,3), activation='relu', padding='same')(encoded)\n",
        "x = layers.UpSampling2D((2,2))(x)\n",
        "x = layers.Conv2D(8, (3,3), activation='relu', padding='same')(x)\n",
        "x = layers.UpSampling2D((2,2))(x)\n",
        "x = layers.Conv2D(16, (3,3), activation='relu')(x)\n",
        "x = layers.UpSampling2D((2,2))(x)\n",
        "decoded = layers.Conv2D(1,(3,3), activation='sigmoid', padding='same')(x)\n",
        "\n",
        "autoencoder = keras.Model(input_img, decoded)\n",
        "autoencoder.compile(optimizer='adam', loss='binary_crossentropy')"
      ],
      "execution_count": null,
      "outputs": []
    },
    {
      "cell_type": "code",
      "metadata": {
        "colab": {
          "base_uri": "https://localhost:8080/"
        },
        "id": "plEj06YeCvFz",
        "outputId": "88e70c69-bcd2-477a-e00e-b3a5cde641ea"
      },
      "source": [
        "autoencoder.summary()"
      ],
      "execution_count": null,
      "outputs": [
        {
          "output_type": "stream",
          "text": [
            "Model: \"functional_3\"\n",
            "_________________________________________________________________\n",
            "Layer (type)                 Output Shape              Param #   \n",
            "=================================================================\n",
            "input_9 (InputLayer)         [(None, 28, 28, 1)]       0         \n",
            "_________________________________________________________________\n",
            "conv2d_35 (Conv2D)           (None, 28, 28, 16)        160       \n",
            "_________________________________________________________________\n",
            "max_pooling2d_24 (MaxPooling (None, 14, 14, 16)        0         \n",
            "_________________________________________________________________\n",
            "conv2d_36 (Conv2D)           (None, 14, 14, 8)         1160      \n",
            "_________________________________________________________________\n",
            "max_pooling2d_25 (MaxPooling (None, 7, 7, 8)           0         \n",
            "_________________________________________________________________\n",
            "conv2d_37 (Conv2D)           (None, 7, 7, 8)           584       \n",
            "_________________________________________________________________\n",
            "max_pooling2d_26 (MaxPooling (None, 4, 4, 8)           0         \n",
            "_________________________________________________________________\n",
            "conv2d_38 (Conv2D)           (None, 4, 4, 8)           584       \n",
            "_________________________________________________________________\n",
            "up_sampling2d_13 (UpSampling (None, 8, 8, 8)           0         \n",
            "_________________________________________________________________\n",
            "conv2d_39 (Conv2D)           (None, 8, 8, 8)           584       \n",
            "_________________________________________________________________\n",
            "up_sampling2d_14 (UpSampling (None, 16, 16, 8)         0         \n",
            "_________________________________________________________________\n",
            "conv2d_40 (Conv2D)           (None, 14, 14, 16)        1168      \n",
            "_________________________________________________________________\n",
            "up_sampling2d_15 (UpSampling (None, 28, 28, 16)        0         \n",
            "_________________________________________________________________\n",
            "conv2d_41 (Conv2D)           (None, 28, 28, 1)         145       \n",
            "=================================================================\n",
            "Total params: 4,385\n",
            "Trainable params: 4,385\n",
            "Non-trainable params: 0\n",
            "_________________________________________________________________\n"
          ],
          "name": "stdout"
        }
      ]
    },
    {
      "cell_type": "code",
      "metadata": {
        "id": "5eEiCBUogCuv"
      },
      "source": [
        "from keras.datasets import mnist\n",
        "import numpy as np\n",
        "\n",
        "(X_train, _), (X_test, _) = mnist.load_data()\n",
        "\n",
        "X_train = X_train.astype('float32') / 255.\n",
        "X_test = X_test.astype('float32') / 255.\n",
        "X_train = np.reshape(X_train, (len(X_train), 28, 28, 1))\n",
        "X_test = np.reshape(X_test, (len(X_test), 28, 28, 1))"
      ],
      "execution_count": null,
      "outputs": []
    },
    {
      "cell_type": "code",
      "metadata": {
        "colab": {
          "base_uri": "https://localhost:8080/"
        },
        "id": "55a3v8L4CvEB",
        "outputId": "43109514-e8ac-42e4-aefd-828318274ef5"
      },
      "source": [
        "from keras.callbacks import TensorBoard\n",
        "\n",
        "autoencoder.fit(X_train, X_train, epochs = 10, batch_size=128, shuffle=True, validation_data=(X_test, X_test),\n",
        "                callbacks=[TensorBoard(log_dir='/tmp/autoencoder')])"
      ],
      "execution_count": null,
      "outputs": [
        {
          "output_type": "stream",
          "text": [
            "Epoch 1/10\n",
            "  1/469 [..............................] - ETA: 0s - loss: 0.6938WARNING:tensorflow:From /usr/local/lib/python3.6/dist-packages/tensorflow/python/ops/summary_ops_v2.py:1277: stop (from tensorflow.python.eager.profiler) is deprecated and will be removed after 2020-07-01.\n",
            "Instructions for updating:\n",
            "use `tf.profiler.experimental.stop` instead.\n",
            "WARNING:tensorflow:Callbacks method `on_train_batch_end` is slow compared to the batch time (batch time: 0.0107s vs `on_train_batch_end` time: 0.0347s). Check your callbacks.\n",
            "469/469 [==============================] - 3s 6ms/step - loss: 0.2152 - val_loss: 0.1509\n",
            "Epoch 2/10\n",
            "469/469 [==============================] - 2s 5ms/step - loss: 0.1398 - val_loss: 0.1301\n",
            "Epoch 3/10\n",
            "469/469 [==============================] - 2s 5ms/step - loss: 0.1260 - val_loss: 0.1208\n",
            "Epoch 4/10\n",
            "469/469 [==============================] - 2s 5ms/step - loss: 0.1194 - val_loss: 0.1162\n",
            "Epoch 5/10\n",
            "469/469 [==============================] - 2s 5ms/step - loss: 0.1154 - val_loss: 0.1126\n",
            "Epoch 6/10\n",
            "469/469 [==============================] - 2s 5ms/step - loss: 0.1124 - val_loss: 0.1098\n",
            "Epoch 7/10\n",
            "469/469 [==============================] - 2s 5ms/step - loss: 0.1101 - val_loss: 0.1080\n",
            "Epoch 8/10\n",
            "469/469 [==============================] - 2s 5ms/step - loss: 0.1083 - val_loss: 0.1068\n",
            "Epoch 9/10\n",
            "469/469 [==============================] - 2s 5ms/step - loss: 0.1067 - val_loss: 0.1051\n",
            "Epoch 10/10\n",
            "469/469 [==============================] - 2s 5ms/step - loss: 0.1054 - val_loss: 0.1050\n"
          ],
          "name": "stdout"
        },
        {
          "output_type": "execute_result",
          "data": {
            "text/plain": [
              "<tensorflow.python.keras.callbacks.History at 0x7fbbfbbfff60>"
            ]
          },
          "metadata": {
            "tags": []
          },
          "execution_count": 33
        }
      ]
    },
    {
      "cell_type": "code",
      "metadata": {
        "id": "m1CTwWd3f--i"
      },
      "source": [
        ""
      ],
      "execution_count": null,
      "outputs": []
    }
  ]
}